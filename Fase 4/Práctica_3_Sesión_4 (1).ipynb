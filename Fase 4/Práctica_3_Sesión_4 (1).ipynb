{
  "cells": [
    {
      "cell_type": "markdown",
      "id": "ac444e2f",
      "metadata": {
        "id": "ac444e2f"
      },
      "source": [
        "DATTABAYÖ - Borja Esteve Molner & Jorge López Fresco\n",
        "\n",
        "# Sesión 4/5 - Práctica 3 - LNR\n",
        "## Combinación de Clasificadores\n",
        "\n",
        "___________\n",
        "\n",
        "**Objetivo**: Implementar y evaluar la combinación de modelos de clasificación en la tarea DETESTS (al menos dos técnicas diferentes). Entregar código e informe con la explicación de la estrategia utilizada antes de la siguiente sesión.\n",
        "\n",
        "**Importar Librerías**"
      ]
    },
    {
      "cell_type": "code",
      "execution_count": null,
      "id": "4be194f5",
      "metadata": {
        "id": "4be194f5"
      },
      "outputs": [],
      "source": [
        "import numpy as np\n",
        "import pandas as pd\n",
        "import sklearn\n",
        "from sklearn import svm\n",
        "from sklearn import tree\n",
        "from sklearn.tree import DecisionTreeClassifier\n",
        "import matplotlib.pyplot as plt\n",
        "from sklearn.ensemble import BaggingClassifier\n",
        "from sklearn.ensemble import AdaBoostClassifier\n",
        "from sklearn.ensemble import StackingClassifier\n",
        "from sklearn.metrics import f1_score, accuracy_score\n",
        "from sklearn.metrics import confusion_matrix\n",
        "from sklearn.metrics import classification_report\n",
        "from sklearn.metrics import roc_curve, auc\n",
        "from sklearn.model_selection import GridSearchCV\n",
        "from sklearn.model_selection import KFold\n",
        "from sklearn.model_selection import train_test_split\n",
        "from sklearn.neural_network import MLPClassifier\n",
        "from imblearn.combine import SMOTETomek\n",
        "import warnings\n",
        "warnings.filterwarnings('ignore')"
      ]
    },
    {
      "cell_type": "code",
      "source": [
        "from google.colab import drive\n",
        "drive.mount('/content/drive')"
      ],
      "metadata": {
        "colab": {
          "base_uri": "https://localhost:8080/"
        },
        "id": "Bf1XmjYrzRuc",
        "outputId": "7a7cb989-014e-47b3-9424-3e375ff7f8a5"
      },
      "id": "Bf1XmjYrzRuc",
      "execution_count": null,
      "outputs": [
        {
          "output_type": "stream",
          "name": "stdout",
          "text": [
            "Drive already mounted at /content/drive; to attempt to forcibly remount, call drive.mount(\"/content/drive\", force_remount=True).\n"
          ]
        }
      ]
    },
    {
      "cell_type": "markdown",
      "source": [
        "Para llevar a cabo esta **cuarta tarea**, vamos a partir de los 2 modelos de representación con Word Embedding (ponderada y mediana). Descartamos directamente el de 3-gramas por dos razones:\n",
        "\n",
        "- El coste computacional es altísimo y el tiempo de ejecución nos entorpece mucho a la hora de tomar decisiones.\n",
        "- Los resultados obtenidos con este modelo de representación son los peores de todas las representaciones.\n",
        "\n",
        "Así, a lo largo del trabajo, usando las **técnicas de combinación de clasificadores**, trataremos de crear modelos que mejoren o iguales a los obtenidos en la sesión anterior. Por otro lado, y dado que debemos **presentar 3 modelos al finalizar la práctica**, hemos decidido que si los modelos obtenidos con la representación de Word Embedding Ponderada son los mejores, descartaremos la representación en la que usamos la mediana. \n",
        "\n",
        "A continuación, cargaremos las representaciones de palabras de Word Embedding (mediana y ponderada), que representa a la matriz X:"
      ],
      "metadata": {
        "id": "jRfDVEkZ0OdU"
      },
      "id": "jRfDVEkZ0OdU"
    },
    {
      "cell_type": "code",
      "source": [
        "\n",
        "\n",
        "# Representación con Word Embedding - Ponderada\n",
        "data_pond = np.loadtxt(rutaNumpys + \"rep_pond_w_emb.txt\")\n",
        "# Representación con Word Embedding - Mediana\n",
        "data_med = np.loadtxt(rutaNumpys + \"rep_median_w_emb.txt\")"
      ],
      "metadata": {
        "id": "jZ7lXzhc1mHT"
      },
      "id": "jZ7lXzhc1mHT",
      "execution_count": null,
      "outputs": []
    },
    {
      "cell_type": "markdown",
      "id": "43f0ac31",
      "metadata": {
        "id": "43f0ac31"
      },
      "source": [
        "Además de la matriz `X`, necesitaremos un vector de etiquetas `Y` que contendrá valores binarios de la pertenencia o no a la clase \"stereotype\". Para ello cargaremos el dataset original de Training `train.csv`."
      ]
    },
    {
      "cell_type": "code",
      "execution_count": null,
      "id": "4c1d1f04",
      "metadata": {
        "id": "4c1d1f04"
      },
      "outputs": [],
      "source": [
        "df_detests = pd.read_csv(rutaData + \"train.csv\")\n",
        "extra_Data = pd.DataFrame(df_detests['stereotype']).to_numpy()"
      ]
    },
    {
      "cell_type": "markdown",
      "source": [
        "Para estructurar la práctica, llevaremos a cabo el siguiente proceso:\n",
        "\n",
        "1. Aplicaremos las técnicas de combinación de clasificadores tanto para word embedding ponderada como para la mediana.\n",
        "2. Dado que nuestro mejor clasificador está en la representación Ponderada, compararemos el mejor resultado de la combinación de clasificadores (previa validación con k-fold) con la ponderada, eligiendo el mejor modelo de los dos. \n",
        "3. Ambos serán elegidos como finalistas. \n",
        "4. Por otro lado, el mejor modelo de combinación de clasificadores en Word Embedding mediana será comparado con el 2º mejor de combinar clasificadores en Word Embedding Ponderada. \n",
        "5. En caso de resultar mejor el de la mediana, el 3º finalista será el modelo resultante de combinar clasificadores con la w.e. mediana. \n",
        "6. En caso de resultar mejor el 2º de la ponderada, el 3º finalista será este último, descartando por completo los modelos de representación de word embedding con la mediana."
      ],
      "metadata": {
        "id": "QFO0_iMEFU_Z"
      },
      "id": "QFO0_iMEFU_Z"
    },
    {
      "cell_type": "markdown",
      "id": "69ae567d",
      "metadata": {
        "id": "69ae567d"
      },
      "source": [
        "## Combinación de Clasificadores para Representación con Word Embedding - Ponderada"
      ]
    },
    {
      "cell_type": "code",
      "execution_count": null,
      "id": "a0b72fe1",
      "metadata": {
        "id": "a0b72fe1",
        "colab": {
          "base_uri": "https://localhost:8080/"
        },
        "outputId": "9383d50e-ca29-4402-cf2a-e52cc041c3cc"
      },
      "outputs": [
        {
          "output_type": "stream",
          "name": "stdout",
          "text": [
            "(3817, 300) (3817, 301)\n"
          ]
        }
      ],
      "source": [
        "data1 = np.append(data_pond, extra_Data, axis=1)\n",
        "X, y = data1[0:3817,0:300], data1[0:3817,300:301]\n",
        "print(data_pond.shape, data1.shape)"
      ]
    },
    {
      "cell_type": "code",
      "source": [
        "smote_tomek = SMOTETomek(random_state=0)\n",
        "X_resampled, y_resampled = smote_tomek.fit_resample(X, y)\n",
        "x_train, x_eval, y_train, y_eval = train_test_split(X_resampled, y_resampled, \n",
        "                                                    test_size=0.3, random_state=42)"
      ],
      "metadata": {
        "id": "RvAtE6Df3DnO"
      },
      "id": "RvAtE6Df3DnO",
      "execution_count": null,
      "outputs": []
    },
    {
      "cell_type": "markdown",
      "source": [
        "### Bagging"
      ],
      "metadata": {
        "id": "iFTRbYO1bl4q"
      },
      "id": "iFTRbYO1bl4q"
    },
    {
      "cell_type": "code",
      "source": [
        "clf = BaggingClassifier(base_estimator=svm.SVC(),n_estimators=10)\n",
        "clf.fit(x_train, y_train)"
      ],
      "metadata": {
        "colab": {
          "base_uri": "https://localhost:8080/"
        },
        "id": "0rxaM195bWP2",
        "outputId": "481a4054-8162-4075-9c5e-493f08f71c5e"
      },
      "id": "0rxaM195bWP2",
      "execution_count": null,
      "outputs": [
        {
          "output_type": "execute_result",
          "data": {
            "text/plain": [
              "BaggingClassifier(base_estimator=SVC())"
            ]
          },
          "metadata": {},
          "execution_count": 8
        }
      ]
    },
    {
      "cell_type": "code",
      "source": [
        "pred = clf.predict(x_eval)\n",
        "acc_sig_svm = clf.score(x_eval, y_eval)\n",
        "pred_sc = pred\n",
        "print(\"Training set score: %f\" % clf.score( x_train, y_train ) )\n",
        "print('Accuracy Radial Basis Kernel:', acc_sig_svm)\n",
        "print(\"F1 Score Macro:\", f1_score(y_eval, pred, average='macro'))\n",
        "print(\"F1 Score Micro:\", f1_score(y_eval, pred, average='micro'))\n",
        "print(\"F1 Score:\", f1_score(y_eval, pred, average=None))\n",
        "print(\"\\n\", confusion_matrix(y_eval, pred_sc))\n",
        "print(classification_report(y_eval, pred_sc))"
      ],
      "metadata": {
        "colab": {
          "base_uri": "https://localhost:8080/"
        },
        "id": "y2lRFnbjbWNO",
        "outputId": "049a082a-6c49-4232-9950-4d7f2e9b7ac7"
      },
      "id": "y2lRFnbjbWNO",
      "execution_count": null,
      "outputs": [
        {
          "output_type": "stream",
          "name": "stdout",
          "text": [
            "Training set score: 0.881582\n",
            "Accuracy Radial Basis Kernel: 0.8545557441992077\n",
            "F1 Score Macro: 0.8545438180826403\n",
            "F1 Score Micro: 0.8545557441992078\n",
            "F1 Score: [0.85322673 0.85586091]\n",
            "\n",
            " [[747 147]\n",
            " [110 763]]\n",
            "              precision    recall  f1-score   support\n",
            "\n",
            "         0.0       0.87      0.84      0.85       894\n",
            "         1.0       0.84      0.87      0.86       873\n",
            "\n",
            "    accuracy                           0.85      1767\n",
            "   macro avg       0.86      0.85      0.85      1767\n",
            "weighted avg       0.86      0.85      0.85      1767\n",
            "\n"
          ]
        }
      ]
    },
    {
      "cell_type": "markdown",
      "source": [
        "### Boosting"
      ],
      "metadata": {
        "id": "4Esq_cYbdL48"
      },
      "id": "4Esq_cYbdL48"
    },
    {
      "cell_type": "code",
      "source": [
        "tree = DecisionTreeClassifier(max_depth=5, random_state=0)\n",
        "ada = AdaBoostClassifier(base_estimator=tree, n_estimators=500, learning_rate=1.5, random_state=1)\n",
        "ada.fit(x_train, y_train)"
      ],
      "metadata": {
        "colab": {
          "base_uri": "https://localhost:8080/"
        },
        "id": "esu2PoBabWGa",
        "outputId": "49b45697-c708-4bbf-c61a-c56bc53abd58"
      },
      "id": "esu2PoBabWGa",
      "execution_count": null,
      "outputs": [
        {
          "output_type": "execute_result",
          "data": {
            "text/plain": [
              "AdaBoostClassifier(base_estimator=DecisionTreeClassifier(max_depth=5,\n",
              "                                                         random_state=0),\n",
              "                   learning_rate=1.5, n_estimators=500, random_state=1)"
            ]
          },
          "metadata": {},
          "execution_count": 25
        }
      ]
    },
    {
      "cell_type": "code",
      "source": [
        "pred_b = ada.predict(x_eval)\n",
        "acc_sig_svm_b = ada.score(x_eval, y_eval)\n",
        "pred_sc_b = pred_b\n",
        "print(\"Training set score: %f\" % ada.score( x_train, y_train ) )\n",
        "print('Accuracy Radial Basis Kernel:', acc_sig_svm_b)\n",
        "print(\"F1 Score Macro:\", f1_score(y_eval, pred_b, average='macro'))\n",
        "print(\"F1 Score Micro:\", f1_score(y_eval, pred_b, average='micro'))\n",
        "print(\"F1 Score:\", f1_score(y_eval, pred_b, average=None))\n",
        "print(\"\\n\", confusion_matrix(y_eval, pred_sc_b))\n",
        "print(classification_report(y_eval, pred_sc_b))"
      ],
      "metadata": {
        "colab": {
          "base_uri": "https://localhost:8080/"
        },
        "id": "qiHg19yMbWEU",
        "outputId": "62b61619-e9eb-4883-fe90-1e6c0af6fe7e"
      },
      "id": "qiHg19yMbWEU",
      "execution_count": null,
      "outputs": [
        {
          "output_type": "stream",
          "name": "stdout",
          "text": [
            "Training set score: 0.999515\n",
            "Accuracy Radial Basis Kernel: 0.8907753254102999\n",
            "F1 Score Macro: 0.8907012527830989\n",
            "F1 Score Micro: 0.8907753254102999\n",
            "F1 Score: [0.8878559  0.89354661]\n",
            "\n",
            " [[764 130]\n",
            " [ 63 810]]\n",
            "              precision    recall  f1-score   support\n",
            "\n",
            "         0.0       0.92      0.85      0.89       894\n",
            "         1.0       0.86      0.93      0.89       873\n",
            "\n",
            "    accuracy                           0.89      1767\n",
            "   macro avg       0.89      0.89      0.89      1767\n",
            "weighted avg       0.89      0.89      0.89      1767\n",
            "\n"
          ]
        }
      ]
    },
    {
      "cell_type": "markdown",
      "source": [
        "### Stacking"
      ],
      "metadata": {
        "id": "lqhxF6GigyqY"
      },
      "id": "lqhxF6GigyqY"
    },
    {
      "cell_type": "code",
      "source": [
        "treeStack = DecisionTreeClassifier(max_depth=5, random_state=0)\n",
        "estimators = [('mlp',MLPClassifier(random_state=1, max_iter=1000)),('svr', svm.SVC())]\n",
        "stack = StackingClassifier ( estimators=estimators, final_estimator=treeStack )\n",
        "stack.fit(x_train, y_train)"
      ],
      "metadata": {
        "colab": {
          "base_uri": "https://localhost:8080/"
        },
        "id": "4jMJ3Ekrcl7t",
        "outputId": "a1502e38-4643-4470-913d-34c67fd9ed38"
      },
      "id": "4jMJ3Ekrcl7t",
      "execution_count": null,
      "outputs": [
        {
          "output_type": "execute_result",
          "data": {
            "text/plain": [
              "StackingClassifier(estimators=[('mlp',\n",
              "                                MLPClassifier(max_iter=1000, random_state=1)),\n",
              "                               ('svr', SVC())],\n",
              "                   final_estimator=DecisionTreeClassifier(max_depth=5,\n",
              "                                                          random_state=0))"
            ]
          },
          "metadata": {},
          "execution_count": 28
        }
      ]
    },
    {
      "cell_type": "code",
      "source": [
        "pred = stack.predict(x_eval)\n",
        "acc_sig_svm = stack.score(x_eval, y_eval)\n",
        "pred_sc = pred\n",
        "print(\"Training set score: %f\" % stack.score( x_train, y_train ) )\n",
        "print('Accuracy Radial Basis Kernel:', acc_sig_svm)\n",
        "print(\"F1 Score Macro:\", f1_score(y_eval, pred, average='macro'))\n",
        "print(\"F1 Score Micro:\", f1_score(y_eval, pred, average='micro'))\n",
        "print(\"F1 Score:\", f1_score(y_eval, pred, average=None))\n",
        "print(\"\\n\", confusion_matrix(y_eval, pred_sc))\n",
        "print(classification_report(y_eval, pred_sc))"
      ],
      "metadata": {
        "colab": {
          "base_uri": "https://localhost:8080/"
        },
        "id": "qr2hQf_Hcl4_",
        "outputId": "aea720eb-47f8-47b4-9644-6f4ef35a2ceb"
      },
      "id": "qr2hQf_Hcl4_",
      "execution_count": null,
      "outputs": [
        {
          "output_type": "stream",
          "name": "stdout",
          "text": [
            "Training set score: 0.995147\n",
            "Accuracy Radial Basis Kernel: 0.9145444255800792\n",
            "F1 Score Macro: 0.914481319621729\n",
            "F1 Score Micro: 0.9145444255800792\n",
            "F1 Score: [0.91680441 0.91215823]\n",
            "\n",
            " [[832  62]\n",
            " [ 89 784]]\n",
            "              precision    recall  f1-score   support\n",
            "\n",
            "         0.0       0.90      0.93      0.92       894\n",
            "         1.0       0.93      0.90      0.91       873\n",
            "\n",
            "    accuracy                           0.91      1767\n",
            "   macro avg       0.92      0.91      0.91      1767\n",
            "weighted avg       0.91      0.91      0.91      1767\n",
            "\n"
          ]
        }
      ]
    },
    {
      "cell_type": "markdown",
      "source": [
        "A la vista de los resultados, podemos observar que usando la técnica de Stacking obtenemos un modelo que supera al que habíamos entrenado en la sesión anterior. No obstante, y para asegurarnos de que no se trata de un modelo sobreajustado, procederemos a realizar una validación usando, como en la sesión anterior, un 10-fold y evaluando la simitud o disimilitud de los valores del accuracy y el F1."
      ],
      "metadata": {
        "id": "t1Hg0zQvxrsi"
      },
      "id": "t1Hg0zQvxrsi"
    },
    {
      "cell_type": "markdown",
      "source": [
        "### Validación Modelo Stacking (mejor modelo)\n",
        "\n",
        "\n"
      ],
      "metadata": {
        "id": "Q2vVs39rF_LE"
      },
      "id": "Q2vVs39rF_LE"
    },
    {
      "cell_type": "code",
      "source": [
        "kf = KFold(n_splits=10)\n",
        "\n",
        "a, fma, fmi = [], [], []\n",
        "for train, eval in kf.split(x_train):\n",
        "    x_train_i, x_eval_i, y_train_i, y_eval_i = x_train[train], x_train[eval], y_train[train], y_train[eval]\n",
        "    treeS = DecisionTreeClassifier(max_depth=5, random_state=0)\n",
        "    estims = [('mlp',MLPClassifier(random_state=1, max_iter=1000)),('svr', svm.SVC())]\n",
        "    s = StackingClassifier ( estimators=estims, final_estimator=treeS )\n",
        "    s.fit(x_train_i, y_train_i)\n",
        "    p = s.predict(x_eval_i)\n",
        "    acc = s.score(x_eval_i, y_eval_i)\n",
        "    f1ma = f1_score(y_eval_i, p, average='macro')\n",
        "    f1mi = f1_score(y_eval_i, p, average='micro')\n",
        "    a.append(acc)\n",
        "    fma.append(f1ma)\n",
        "    fmi.append(f1mi)\n",
        "print(a)\n",
        "print(fma)\n",
        "print(fmi)"
      ],
      "metadata": {
        "colab": {
          "base_uri": "https://localhost:8080/"
        },
        "id": "5dgQilP2wfC7",
        "outputId": "bd882a32-387b-4393-faf8-ab15eb3ea99b"
      },
      "id": "5dgQilP2wfC7",
      "execution_count": null,
      "outputs": [
        {
          "output_type": "stream",
          "name": "stdout",
          "text": [
            "[0.9079903147699758, 0.9174757281553398, 0.883495145631068, 0.8859223300970874, 0.912621359223301, 0.9101941747572816, 0.9077669902912622, 0.8980582524271845, 0.9393203883495146, 0.8956310679611651]\n",
            "[0.9079638752052546, 0.9166904557997906, 0.8833191730387993, 0.8855657004402682, 0.912621359223301, 0.9101301120720657, 0.9069756387403446, 0.8979981608544954, 0.9388270230141054, 0.8953047897645008]\n",
            "[0.9079903147699758, 0.9174757281553398, 0.883495145631068, 0.8859223300970874, 0.912621359223301, 0.9101941747572816, 0.9077669902912622, 0.8980582524271845, 0.9393203883495146, 0.895631067961165]\n"
          ]
        }
      ]
    },
    {
      "cell_type": "code",
      "source": [
        "acc_med_s1 = sum(a)/len(a)\n",
        "f1ma_med_s1 = sum(fma)/len(a)\n",
        "f1mi_med_s1 = sum(fmi)/len(a)"
      ],
      "metadata": {
        "id": "1g58ekXjwfBB"
      },
      "id": "1g58ekXjwfBB",
      "execution_count": null,
      "outputs": []
    },
    {
      "cell_type": "code",
      "source": [
        "print('Accuracy Medio:', round(acc_med_s1, 5))\n",
        "print(\"F1 Score Macro Medio:\", round(f1ma_med_s1, 5))\n",
        "print(\"F1 Score Micro Medio:\", round(f1mi_med_s1, 5))"
      ],
      "metadata": {
        "colab": {
          "base_uri": "https://localhost:8080/"
        },
        "id": "FSqcrOVewe-1",
        "outputId": "2bd5c5a6-27d3-46ec-a510-a79145d28875"
      },
      "id": "FSqcrOVewe-1",
      "execution_count": null,
      "outputs": [
        {
          "output_type": "stream",
          "name": "stdout",
          "text": [
            "Accuracy Medio: 0.90585\n",
            "F1 Score Macro Medio: 0.90554\n",
            "F1 Score Micro Medio: 0.90585\n"
          ]
        }
      ]
    },
    {
      "cell_type": "markdown",
      "source": [
        "Modelo con Stacking:\n",
        "- Accuracy Medio: 0.90585\n",
        "- F1 Score Macro Medio: 0.90554\n",
        "- F1 Score Micro Medio: 0.90585\n",
        "\n",
        "Modelo con SVM, c=40 y kernel rbf:\n",
        "- Accuracy Medio: 0.90245\n",
        "- F1 Score Macro Medio: 0.90201\n",
        "- F1 Score Micro Medio: 0.90245\n",
        "\n",
        "___________\n",
        "\n",
        "Al realizar cross-validation o k-fold, además de ver si el modelo sobreajusta o si es independiente de la muestra, también te permite estimar el parámetro real. Es decir, que al obtener un valor de 0.905 ahora y un valor de 0.902 en el modelo anterior, lo más probable es que el valor del accuracy y de los F1 scores, le pases los datos que le pases, se situará en torno a 0,9."
      ],
      "metadata": {
        "id": "LaTwrWy08D6k"
      },
      "id": "LaTwrWy08D6k"
    },
    {
      "cell_type": "markdown",
      "source": [
        "A continuación, recalculamos el modelo entrenado en la sesión 3 para graficar su curva ROC y su AUC junto con el nuevo modelo elaborado con stacking."
      ],
      "metadata": {
        "id": "MvP8mqtf6-IC"
      },
      "id": "MvP8mqtf6-IC"
    },
    {
      "cell_type": "code",
      "source": [
        "clf_svm = svm.SVC(kernel='rbf',gamma = 'scale', C=40).fit( x_train, y_train )\n",
        "pred_svm = clf_svm.predict(x_eval)"
      ],
      "metadata": {
        "id": "Bg_bcxZnweyh"
      },
      "id": "Bg_bcxZnweyh",
      "execution_count": null,
      "outputs": []
    },
    {
      "cell_type": "code",
      "source": [
        "test_svm_f, test_svm_t, te_thresholds_svm = roc_curve(y_eval, pred_svm)\n",
        "test_stack_f, test_stack_t, te_thresholds_stack = roc_curve(y_eval, pred_sc)\n",
        "\n",
        "plt.grid()\n",
        "plt.plot(test_svm_f, test_svm_t, label=\" AUC SVM Sesión 2 =\"+str(auc(test_svm_f, test_svm_t)))\n",
        "plt.plot([0,1],[0,1],'g--')\n",
        "plt.plot(test_stack_f, test_stack_t, label=\" AUC Stacking =\"+str(auc(test_stack_f, test_stack_t)))\n",
        "plt.plot([0,1],[0,1],'b--')\n",
        "plt.legend()\n",
        "plt.xlabel(\"Ratio de Falsos Positivos.\")\n",
        "plt.ylabel(\"Ratio de Verdaderos Positivos.\")\n",
        "plt.title(\"AUC (Curva ROC)\")\n",
        "plt.grid(color='black', linestyle='-', linewidth=0.5)\n",
        "plt.show()"
      ],
      "metadata": {
        "colab": {
          "base_uri": "https://localhost:8080/",
          "height": 295
        },
        "id": "mrQnuYRowewU",
        "outputId": "98d6fa06-5190-4c89-f557-2e70eff74688"
      },
      "id": "mrQnuYRowewU",
      "execution_count": null,
      "outputs": [
        {
          "output_type": "display_data",
          "data": {
            "text/plain": [
              "<Figure size 432x288 with 1 Axes>"
            ],
            "image/png": "[encoded data removed]"
          },
          "metadata": {
            "needs_background": "light"
          }
        }
      ]
    },
    {
      "cell_type": "markdown",
      "source": [
        "Observando la curva ROC y evalando el AUC, podemos ver que los modelos son prácticamente iguales y que tienen una calidad semejante, por lo que nos encontramos ante dos modelos muy potentes. El anterior tiene una pequeña tendencia hacia los valores etiquetados como 0 y el nuevo, hacia los valores etiquetados como 1. No obstante, son dos modelos prácticamente iguales y con una calidad semejante.\n",
        "\n",
        "\n",
        "---\n"
      ],
      "metadata": {
        "id": "vmVFGX8V9pEg"
      },
      "id": "vmVFGX8V9pEg"
    },
    {
      "cell_type": "markdown",
      "source": [
        "Por otro lado, el modelo obtenido con el Boosting resulta ser mejor que el modelo de la sesión anterior obtenido usando MLP. De esta forma, eliminamos el modelo de MLP anterior de la ecuación y tomamos este como el segundo mejor y lo usaremos para compararlo con el mejor de combinación de clasificadores con Word Embedding Mediana."
      ],
      "metadata": {
        "id": "P7AZ4RQJ3BVY"
      },
      "id": "P7AZ4RQJ3BVY"
    },
    {
      "cell_type": "markdown",
      "source": [
        "### Validación Modelo Boosting (2º mejor modelo)"
      ],
      "metadata": {
        "id": "fTxRmVT_GLzE"
      },
      "id": "fTxRmVT_GLzE"
    },
    {
      "cell_type": "markdown",
      "source": [
        "Dado que el AdaBoost usa el resampling dentro de su algoritmo, no tiene sentido realizar el k-fold, ya que todos esos \"folds\" ya han sido entrenados y sería como entrenar dos veces. Asumimos que no está sobreajustado, pero probamos la curva ROC para evaluar la calidad del modelo."
      ],
      "metadata": {
        "id": "gwpUzfSxdG5z"
      },
      "id": "gwpUzfSxdG5z"
    },
    {
      "cell_type": "code",
      "source": [
        "test_svm_f, test_svm_t, te_thresholds_svm = roc_curve(y_eval, pred_svm)\n",
        "test_boost_f, test_boost_t, te_thresholds_boost = roc_curve(y_eval, pred_sc_b)\n",
        "\n",
        "plt.grid()\n",
        "plt.plot(test_svm_f, test_svm_t, label=\" AUC SVM Sesión 2 =\"+str(auc(test_svm_f, test_svm_t)))\n",
        "plt.plot([0,1],[0,1],'g--')\n",
        "plt.plot(test_boost_f, test_boost_t, label=\" AUC Stacking =\"+str(auc(test_boost_f, test_boost_t)))\n",
        "plt.plot([0,1],[0,1],'b--')\n",
        "plt.legend()\n",
        "plt.xlabel(\"Ratio de Falsos Positivos.\")\n",
        "plt.ylabel(\"Ratio de Verdaderos Positivos.\")\n",
        "plt.title(\"AUC (Curva ROC)\")\n",
        "plt.grid(color='black', linestyle='-', linewidth=0.5)\n",
        "plt.show()"
      ],
      "metadata": {
        "colab": {
          "base_uri": "https://localhost:8080/",
          "height": 295
        },
        "id": "Aa0qpKFbGlP0",
        "outputId": "2b221066-7c48-4484-ec91-4a0f768914fe"
      },
      "id": "Aa0qpKFbGlP0",
      "execution_count": null,
      "outputs": [
        {
          "output_type": "display_data",
          "data": {
            "text/plain": [
              "<Figure size 432x288 with 1 Axes>"
            ],
            "image/png": "[encoded data removed]"
          },
          "metadata": {
            "needs_background": "light"
          }
        }
      ]
    },
    {
      "cell_type": "markdown",
      "source": [
        "Observando la curva ROC y evalando el AUC, podemos ver que los modelos son muy parecidos y que tienen una calidad semejante, por lo que nos encontramos ante dos modelos muy potentes. \n",
        "\n",
        "\n",
        "---"
      ],
      "metadata": {
        "id": "x_vNdg-Ic1kB"
      },
      "id": "x_vNdg-Ic1kB"
    },
    {
      "cell_type": "markdown",
      "metadata": {
        "id": "Ox38bE4o333q"
      },
      "source": [
        "## Combinación de Clasificadores para Representación con Word Embedding - Mediana"
      ],
      "id": "Ox38bE4o333q"
    },
    {
      "cell_type": "code",
      "execution_count": null,
      "metadata": {
        "colab": {
          "base_uri": "https://localhost:8080/"
        },
        "outputId": "6a6c5689-a7fd-4caa-82c1-3a333e8e821b",
        "id": "t_28fzfr333r"
      },
      "outputs": [
        {
          "output_type": "stream",
          "name": "stdout",
          "text": [
            "(3817, 300) (3817, 301)\n"
          ]
        }
      ],
      "source": [
        "data2 = np.append(data_med, extra_Data, axis=1)\n",
        "X, y = data2[0:3817,0:300], data2[0:3817,300:301]\n",
        "print(data_med.shape, data2.shape)"
      ],
      "id": "t_28fzfr333r"
    },
    {
      "cell_type": "code",
      "execution_count": null,
      "metadata": {
        "id": "Zt4cR0oG333r"
      },
      "outputs": [],
      "source": [
        "smote_tomek = SMOTETomek(random_state=0)\n",
        "X_resampled, y_resampled = smote_tomek.fit_resample(X, y)\n",
        "x_train, x_eval, y_train, y_eval = train_test_split(X_resampled, y_resampled, \n",
        "                                                    test_size=0.3, random_state=42)"
      ],
      "id": "Zt4cR0oG333r"
    },
    {
      "cell_type": "markdown",
      "source": [
        "### Bagging"
      ],
      "metadata": {
        "id": "FMedn4l--2uP"
      },
      "id": "FMedn4l--2uP"
    },
    {
      "cell_type": "code",
      "source": [
        "clf2 = BaggingClassifier(base_estimator=svm.SVC(),n_estimators=10)\n",
        "clf2.fit(x_train, y_train)"
      ],
      "metadata": {
        "colab": {
          "base_uri": "https://localhost:8080/"
        },
        "outputId": "5a25f804-eb7b-4c2f-ee76-6dbab7d0f1e6",
        "id": "SC_8ZZjj-2uP"
      },
      "execution_count": null,
      "outputs": [
        {
          "output_type": "execute_result",
          "data": {
            "text/plain": [
              "BaggingClassifier(base_estimator=SVC())"
            ]
          },
          "metadata": {},
          "execution_count": 47
        }
      ],
      "id": "SC_8ZZjj-2uP"
    },
    {
      "cell_type": "code",
      "source": [
        "pred2 = clf2.predict(x_eval)\n",
        "acc_sig_svm2 = clf2.score(x_eval, y_eval)\n",
        "pred_sc2 = pred2\n",
        "print(\"Training set score: %f\" % clf2.score( x_train, y_train ) )\n",
        "print('Accuracy Radial Basis Kernel:', acc_sig_svm2)\n",
        "print(\"F1 Score Macro:\", f1_score(y_eval, pred2, average='macro'))\n",
        "print(\"F1 Score Micro:\", f1_score(y_eval, pred2, average='micro'))\n",
        "print(\"F1 Score:\", f1_score(y_eval, pred2, average=None))\n",
        "print(\"\\n\", confusion_matrix(y_eval, pred_sc2))\n",
        "print(classification_report(y_eval, pred_sc2))"
      ],
      "metadata": {
        "colab": {
          "base_uri": "https://localhost:8080/"
        },
        "outputId": "477321e9-0afb-47c4-8d70-f92ce983495f",
        "id": "qKGE9gmW-2uQ"
      },
      "execution_count": null,
      "outputs": [
        {
          "output_type": "stream",
          "name": "stdout",
          "text": [
            "Training set score: 0.855583\n",
            "Accuracy Radial Basis Kernel: 0.8137032842582106\n",
            "F1 Score Macro: 0.8132908636519491\n",
            "F1 Score Micro: 0.8137032842582106\n",
            "F1 Score: [0.80451575 0.82206598]\n",
            "\n",
            " [[677 199]\n",
            " [130 760]]\n",
            "              precision    recall  f1-score   support\n",
            "\n",
            "         0.0       0.84      0.77      0.80       876\n",
            "         1.0       0.79      0.85      0.82       890\n",
            "\n",
            "    accuracy                           0.81      1766\n",
            "   macro avg       0.82      0.81      0.81      1766\n",
            "weighted avg       0.82      0.81      0.81      1766\n",
            "\n"
          ]
        }
      ],
      "id": "qKGE9gmW-2uQ"
    },
    {
      "cell_type": "markdown",
      "source": [
        "### Boosting"
      ],
      "metadata": {
        "id": "FQai_3W4-2uQ"
      },
      "id": "FQai_3W4-2uQ"
    },
    {
      "cell_type": "code",
      "source": [
        "tree2 = DecisionTreeClassifier(max_depth=5, random_state=0)\n",
        "ada2 = AdaBoostClassifier(base_estimator=tree2, n_estimators=500, learning_rate=1.5, random_state=1)\n",
        "ada2.fit(x_train, y_train)"
      ],
      "metadata": {
        "colab": {
          "base_uri": "https://localhost:8080/"
        },
        "outputId": "aa500a8b-67a7-440a-bbbb-6e250406ab07",
        "id": "K5FWjyGP-2uQ"
      },
      "execution_count": null,
      "outputs": [
        {
          "output_type": "execute_result",
          "data": {
            "text/plain": [
              "AdaBoostClassifier(base_estimator=DecisionTreeClassifier(max_depth=5,\n",
              "                                                         random_state=0),\n",
              "                   learning_rate=1.5, n_estimators=500, random_state=1)"
            ]
          },
          "metadata": {},
          "execution_count": 49
        }
      ],
      "id": "K5FWjyGP-2uQ"
    },
    {
      "cell_type": "code",
      "source": [
        "pred3 = ada2.predict(x_eval)\n",
        "acc_sig_svm3 = ada2.score(x_eval, y_eval)\n",
        "pred_sc3 = pred3\n",
        "print(\"Training set score: %f\" % ada2.score( x_train, y_train ) )\n",
        "print('Accuracy Radial Basis Kernel:', acc_sig_svm3)\n",
        "print(\"F1 Score Macro:\", f1_score(y_eval, pred3, average='macro'))\n",
        "print(\"F1 Score Micro:\", f1_score(y_eval, pred3, average='micro'))\n",
        "print(\"F1 Score:\", f1_score(y_eval, pred3, average=None))\n",
        "print(\"\\n\", confusion_matrix(y_eval, pred_sc3))\n",
        "print(classification_report(y_eval, pred_sc3))"
      ],
      "metadata": {
        "colab": {
          "base_uri": "https://localhost:8080/"
        },
        "outputId": "5ee51527-c456-47ee-a97f-139b8f281220",
        "id": "vyoqKdsc-2uQ"
      },
      "execution_count": null,
      "outputs": [
        {
          "output_type": "stream",
          "name": "stdout",
          "text": [
            "Training set score: 0.998544\n",
            "Accuracy Radial Basis Kernel: 0.8850509626274066\n",
            "F1 Score Macro: 0.884994875266061\n",
            "F1 Score Micro: 0.8850509626274066\n",
            "F1 Score: [0.88245512 0.88753463]\n",
            "\n",
            " [[762 114]\n",
            " [ 89 801]]\n",
            "              precision    recall  f1-score   support\n",
            "\n",
            "         0.0       0.90      0.87      0.88       876\n",
            "         1.0       0.88      0.90      0.89       890\n",
            "\n",
            "    accuracy                           0.89      1766\n",
            "   macro avg       0.89      0.88      0.88      1766\n",
            "weighted avg       0.89      0.89      0.89      1766\n",
            "\n"
          ]
        }
      ],
      "id": "vyoqKdsc-2uQ"
    },
    {
      "cell_type": "markdown",
      "source": [
        "### Stacking"
      ],
      "metadata": {
        "id": "fRt3IKLY-2uQ"
      },
      "id": "fRt3IKLY-2uQ"
    },
    {
      "cell_type": "code",
      "source": [
        "treeStack2 = DecisionTreeClassifier(max_depth=5, random_state=0)\n",
        "estimators2 = [('mlp',MLPClassifier(random_state=1, max_iter=1000)),('svr', svm.SVC())]\n",
        "stack2 = StackingClassifier ( estimators=estimators2, final_estimator=treeStack2 )\n",
        "stack2.fit(x_train, y_train)"
      ],
      "metadata": {
        "colab": {
          "base_uri": "https://localhost:8080/"
        },
        "outputId": "664f8e70-8bff-4ffd-ad28-3abe31ab9118",
        "id": "cY3i4AL--2uR"
      },
      "execution_count": null,
      "outputs": [
        {
          "output_type": "execute_result",
          "data": {
            "text/plain": [
              "StackingClassifier(estimators=[('mlp',\n",
              "                                MLPClassifier(max_iter=1000, random_state=1)),\n",
              "                               ('svr', SVC())],\n",
              "                   final_estimator=DecisionTreeClassifier(max_depth=5,\n",
              "                                                          random_state=0))"
            ]
          },
          "metadata": {},
          "execution_count": 51
        }
      ],
      "id": "cY3i4AL--2uR"
    },
    {
      "cell_type": "code",
      "source": [
        "pred4 = stack2.predict(x_eval)\n",
        "acc_sig_svm4 = stack2.score(x_eval, y_eval)\n",
        "pred_sc4 = pred4\n",
        "print(\"Training set score: %f\" % stack2.score( x_train, y_train ) )\n",
        "print('Accuracy Radial Basis Kernel:', acc_sig_svm4)\n",
        "print(\"F1 Score Macro:\", f1_score(y_eval, pred4, average='macro'))\n",
        "print(\"F1 Score Micro:\", f1_score(y_eval, pred4, average='micro'))\n",
        "print(\"F1 Score:\", f1_score(y_eval, pred4, average=None))\n",
        "print(\"\\n\", confusion_matrix(y_eval, pred_sc4))\n",
        "print(classification_report(y_eval, pred_sc4))"
      ],
      "metadata": {
        "colab": {
          "base_uri": "https://localhost:8080/"
        },
        "outputId": "66d370d0-0a30-4054-bf3f-e1a66b93cb5a",
        "id": "1hKEdzmX-2uR"
      },
      "execution_count": null,
      "outputs": [
        {
          "output_type": "stream",
          "name": "stdout",
          "text": [
            "Training set score: 0.965534\n",
            "Accuracy Radial Basis Kernel: 0.8799546998867497\n",
            "F1 Score Macro: 0.8799540840211111\n",
            "F1 Score Micro: 0.8799546998867497\n",
            "F1 Score: [0.88022599 0.87968218]\n",
            "\n",
            " [[779  97]\n",
            " [115 775]]\n",
            "              precision    recall  f1-score   support\n",
            "\n",
            "         0.0       0.87      0.89      0.88       876\n",
            "         1.0       0.89      0.87      0.88       890\n",
            "\n",
            "    accuracy                           0.88      1766\n",
            "   macro avg       0.88      0.88      0.88      1766\n",
            "weighted avg       0.88      0.88      0.88      1766\n",
            "\n"
          ]
        }
      ],
      "id": "1hKEdzmX-2uR"
    },
    {
      "cell_type": "markdown",
      "source": [
        "A la vista de los resultados, podemos observar que usando la técnica de Boosting (AdaBoost) obtenemos el mejor modelo de los 3. Por su parte, tal y como habíamos dicho, si lo comparamos con el 2º mejor modelo de WE Ponderado, vemos que el mejor de los dos es el Ponderado, como se puede observar a continuación:\n",
        "\n",
        "Mejor modelo WE Mediana - Boosting\n",
        "\n",
        "              precision    recall  f1-score   support\n",
        "\n",
        "         0.0       0.87      0.89      0.88       876\n",
        "         1.0       0.89      0.87      0.88       890\n",
        "\n",
        "2º Mejor Modelo WE Ponderado - Boosting\n",
        "\n",
        "              precision    recall  f1-score   support\n",
        "\n",
        "         0.0       0.92      0.85      0.89       894\n",
        "         1.0       0.86      0.93      0.89       873\n",
        "\n",
        "De esta forma, descartamos el modelo de WE con Mediana y nos quedamos por tanto, con los 3 modelos del WE Ponderado: \n",
        "\n",
        "- 1º: Modelo con Stacking WE Ponderada.\n",
        "- 2º: Modelo Entrenado en la sesión 3 con SVM.\n",
        "- 3º: Modelo con Boosting WE Ponderada.\n"
      ],
      "metadata": {
        "id": "1QtpxJLR-2uR"
      },
      "id": "1QtpxJLR-2uR"
    },
    {
      "cell_type": "markdown",
      "source": [
        "## Relación final de Modelos\n",
        "\n",
        "Estos son nuestros 3 modelos elegidos con el **Word Embedding Ponderado**:\n",
        "\n",
        "1. El modelo entrenado con Stacking  \n",
        "\n",
        "              precision    recall  f1-score\n",
        "\n",
        "         0.0       0.90      0.93      0.92\n",
        "         1.0       0.93      0.90      0.91\n",
        "\n",
        "2. El modelo entrenado con SVM en la sesión 3\n",
        "\n",
        "                precision    recall  f1-score\n",
        "\n",
        "         0.0       0.94      0.89      0.91\n",
        "         1.0       0.89      0.94      0.91\n",
        "\n",
        "3. El modelo entrenado con Boosting  \n",
        "\n",
        "              precision    recall  f1-score\n",
        "\n",
        "         0.0       0.92      0.85      0.89\n",
        "         1.0       0.86      0.93      0.89\n"
      ],
      "metadata": {
        "id": "eqowm0xge_7C"
      },
      "id": "eqowm0xge_7C"
    },
    {
      "cell_type": "markdown",
      "source": [
        "### Comparativa de modelos con las Curvas ROC y AUC "
      ],
      "metadata": {
        "id": "_tuWnoa9gOnX"
      },
      "id": "_tuWnoa9gOnX"
    },
    {
      "cell_type": "code",
      "source": [
        "test_svm_f, test_svm_t, te_thresholds_svm = roc_curve(y_eval, pred_svm)\n",
        "test_boost_f, test_boost_t, te_thresholds_boost = roc_curve(y_eval, pred_sc_b)\n",
        "test_stack_f, test_stack_t, te_thresholds_stack = roc_curve(y_eval, pred_sc)\n",
        "\n",
        "plt.grid()\n",
        "plt.plot(test_svm_f, test_svm_t, label=\" AUC SVM Sesión_2 =\"+str(auc(test_svm_f, test_svm_t)))\n",
        "plt.plot([0,1],[0,1],'g--')\n",
        "plt.plot(test_boost_f, test_boost_t, label=\" AUC Boosting =\"+str(auc(test_boost_f, test_boost_t)))\n",
        "plt.plot([0,1],[0,1],'b--')\n",
        "plt.plot(test_stack_f, test_stack_t, label=\" AUC Stacking =\"+str(auc(test_stack_f, test_stack_t)))\n",
        "plt.plot([0,1],[0,1],'b--')\n",
        "plt.legend()\n",
        "plt.xlabel(\"Ratio de Falsos Positivos.\")\n",
        "plt.ylabel(\"Ratio de Verdaderos Positivos.\")\n",
        "plt.title(\"AUC (Curva ROC)\")\n",
        "plt.grid(color='black', linestyle='-', linewidth=0.5)\n",
        "plt.show()"
      ],
      "metadata": {
        "colab": {
          "base_uri": "https://localhost:8080/",
          "height": 295
        },
        "id": "A5LW0u89fXP1",
        "outputId": "f46b7122-44ee-4b99-f05c-fd987a93da1f"
      },
      "id": "A5LW0u89fXP1",
      "execution_count": null,
      "outputs": [
        {
          "output_type": "display_data",
          "data": {
            "text/plain": [
              "<Figure size 432x288 with 1 Axes>"
            ],
            "image/png": "[encoded data removed]"
          },
          "metadata": {
            "needs_background": "light"
          }
        }
      ]
    }
  ],
  "metadata": {
    "kernelspec": {
      "display_name": "Python 3",
      "language": "python",
      "name": "python3"
    },
    "language_info": {
      "codemirror_mode": {
        "name": "ipython",
        "version": 3
      },
      "file_extension": ".py",
      "mimetype": "text/x-python",
      "name": "python",
      "nbconvert_exporter": "python",
      "pygments_lexer": "ipython3",
      "version": "3.8.8"
    },
    "colab": {
      "name": "Práctica_3_Sesión_4.ipynb",
      "provenance": [],
      "collapsed_sections": []
    }
  },
  "nbformat": 4,
  "nbformat_minor": 5
}